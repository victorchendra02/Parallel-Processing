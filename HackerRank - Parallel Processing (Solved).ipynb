{
 "cells": [
  {
   "cell_type": "code",
   "execution_count": 12,
   "metadata": {},
   "outputs": [
    {
     "data": {
      "text/plain": [
       "5"
      ]
     },
     "execution_count": 12,
     "metadata": {},
     "output_type": "execute_result"
    }
   ],
   "source": [
    "# HackerRank - Parallel Processing\n",
    "# By: Victor Chendra\n",
    "\n",
    "def minTime(files: list[int], numCores: int, limit: int) -> int:\n",
    "    files.sort(reverse=True)\n",
    "\n",
    "    process_times = 0\n",
    "    lim = 0\n",
    "    for i in range(len(files)):\n",
    "        if lim < limit:\n",
    "            if files[i] % numCores == 0:\n",
    "                lim += 1\n",
    "                process_times += files[i]//numCores\n",
    "            else:\n",
    "                process_times += files[i] \n",
    "\n",
    "        else:\n",
    "            process_times += files[i]\n",
    " \n",
    "    return process_times\n",
    "\n",
    "\n",
    "minTime([5, 3, 1], 5, 5)\n"
   ]
  },
  {
   "cell_type": "code",
   "execution_count": null,
   "metadata": {},
   "outputs": [],
   "source": []
  }
 ],
 "metadata": {
  "kernelspec": {
   "display_name": "Python 3",
   "language": "python",
   "name": "python3"
  },
  "language_info": {
   "codemirror_mode": {
    "name": "ipython",
    "version": 3
   },
   "file_extension": ".py",
   "mimetype": "text/x-python",
   "name": "python",
   "nbconvert_exporter": "python",
   "pygments_lexer": "ipython3",
   "version": "3.10.2"
  },
  "orig_nbformat": 4,
  "vscode": {
   "interpreter": {
    "hash": "ae1ddcff7fb3589e56c1735bd04bc544f28a9960cac663cd0016f5d7384b912c"
   }
  }
 },
 "nbformat": 4,
 "nbformat_minor": 2
}
